{
  "nbformat": 4,
  "nbformat_minor": 0,
  "metadata": {
    "colab": {
      "provenance": [],
      "authorship_tag": "ABX9TyMenqhOQVIsH/96pbrIbhl5",
      "include_colab_link": true
    },
    "kernelspec": {
      "name": "python3",
      "display_name": "Python 3"
    },
    "language_info": {
      "name": "python"
    }
  },
  "cells": [
    {
      "cell_type": "markdown",
      "metadata": {
        "id": "view-in-github",
        "colab_type": "text"
      },
      "source": [
        "<a href=\"https://colab.research.google.com/github/Francisss3/Data-Engineering/blob/main/MongoDB_Data_Engineering_Lab.ipynb\" target=\"_parent\"><img src=\"https://colab.research.google.com/assets/colab-badge.svg\" alt=\"Open In Colab\"/></a>"
      ]
    },
    {
      "cell_type": "code",
      "execution_count": 1,
      "metadata": {
        "colab": {
          "base_uri": "https://localhost:8080/"
        },
        "id": "p6RuECdnwNWr",
        "outputId": "22c5566b-8d72-4036-c3ba-ea7d191be734"
      },
      "outputs": [
        {
          "output_type": "stream",
          "name": "stdout",
          "text": [
            "Requirement already satisfied: dnspython in /usr/local/lib/python3.11/dist-packages (2.7.0)\n",
            "Requirement already satisfied: certifi in /usr/local/lib/python3.11/dist-packages (2025.6.15)\n",
            "Requirement already satisfied: pymongo[srv] in /usr/local/lib/python3.11/dist-packages (4.13.1)\n",
            "\u001b[33mWARNING: pymongo 4.13.1 does not provide the extra 'srv'\u001b[0m\u001b[33m\n",
            "\u001b[0m"
          ]
        }
      ],
      "source": [
        "!pip install --upgrade pymongo[srv] dnspython certifi\n"
      ]
    },
    {
      "cell_type": "code",
      "source": [
        "import certifi\n",
        "from pymongo.mongo_client import MongoClient\n",
        "from pymongo.server_api import ServerApi\n",
        "\n",
        "# your Atlas credentials\n",
        "username = \"charbelfrancis03\"\n",
        "password = \"hUmsVOJeW3LRlLZ6\"\n",
        "\n",
        "# build the SRV URI\n",
        "uri = (\n",
        "    f\"mongodb+srv://{username}:{password}\"\n",
        "    \"@cluster0.8otd0br.mongodb.net\"\n",
        "    \"/?retryWrites=true&w=majority\"\n",
        ")\n",
        "\n",
        "# create the client using certifi’s CA bundle\n",
        "client = MongoClient(\n",
        "    uri,\n",
        "    server_api=ServerApi(\"1\"),\n",
        "    tls=True,\n",
        "    tlsCAFile=certifi.where()\n",
        ")\n",
        "\n",
        "# test the connection\n",
        "try:\n",
        "    client.admin.command(\"ping\")\n",
        "    print(\"✅ Connected to MongoDB Atlas!\")\n",
        "except Exception as e:\n",
        "    print(\"❌ Connection failed:\", e)\n"
      ],
      "metadata": {
        "colab": {
          "base_uri": "https://localhost:8080/"
        },
        "id": "mC8L4_UXweX5",
        "outputId": "58016a26-a817-4daf-d0c6-1490cbf4e28c"
      },
      "execution_count": 2,
      "outputs": [
        {
          "output_type": "stream",
          "name": "stdout",
          "text": [
            "✅ Connected to MongoDB Atlas!\n"
          ]
        }
      ]
    },
    {
      "cell_type": "code",
      "source": [
        "# Cell 3: pick your DB & collection\n",
        "db = client.ecommerce                # “ecommerce” database (created on first write)\n",
        "products = db.products               # “products” collection\n"
      ],
      "metadata": {
        "id": "Ss4bxBPPyosg"
      },
      "execution_count": 3,
      "outputs": []
    },
    {
      "cell_type": "code",
      "source": [
        "# Cell 4: insert 3 example docs from PDF\n",
        "initial_products = [\n",
        "    {\"name\": \"Laptop\",   \"price\": 1200, \"category\": \"Electronics\", \"inventory\": 10},\n",
        "    {\"name\": \"T-Shirt\",  \"price\":   20, \"category\": \"Clothing\",    \"inventory\": 50},\n",
        "    {\"name\": \"Sofa\",     \"price\":  700, \"category\": \"Furniture\",   \"inventory\":  5,\n",
        "     \"reviews\": [{\"user\": \"Alice\", \"rating\": 4}]}\n",
        "]\n",
        "\n",
        "res = products.insert_many(initial_products)\n",
        "print(f\"Inserted initial docs → {res.inserted_ids}\")\n"
      ],
      "metadata": {
        "colab": {
          "base_uri": "https://localhost:8080/"
        },
        "id": "EIxmVB0kytHl",
        "outputId": "e70a79af-0288-4668-80a2-96ba50f274db"
      },
      "execution_count": 4,
      "outputs": [
        {
          "output_type": "stream",
          "name": "stdout",
          "text": [
            "Inserted initial docs → [ObjectId('685013346d9362496df4525c'), ObjectId('685013346d9362496df4525d'), ObjectId('685013346d9362496df4525e')]\n"
          ]
        }
      ]
    },
    {
      "cell_type": "code",
      "source": [
        "# Cell 5: a) CREATE – add 5 more products\n",
        "more_products = [\n",
        "    {\"name\": \"Headphones\", \"price\": 150, \"category\": \"Electronics\", \"inventory\": 25},\n",
        "    {\"name\": \"Jeans\",      \"price\":  45, \"category\": \"Clothing\",    \"inventory\": 40},\n",
        "    {\"name\": \"Dining Set\", \"price\": 900, \"category\": \"Furniture\",   \"inventory\":  8},\n",
        "    {\"name\": \"Watch\",      \"price\": 300, \"category\": \"Electronics\", \"inventory\": 15,\n",
        "     \"discount\": 0.05},\n",
        "    {\"name\": \"Jacket\",     \"price\": 120, \"category\": \"Clothing\",    \"inventory\": 30,\n",
        "     \"reviews\": [{\"user\": \"Bob\", \"rating\": 5}]}\n",
        "]\n",
        "res = products.insert_many(more_products)\n",
        "print(f\"Created 5 more → {len(res.inserted_ids)} new documents\")\n",
        "\n",
        "# b) READ – list Electronics with price > $500\n",
        "print(\"\\n📦 Electronics > $500:\")\n",
        "for p in products.find({\"category\": \"Electronics\", \"price\": {\"$gt\": 500}}):\n",
        "    print(f\" • {p['name']}: ${p['price']} (stock: {p['inventory']})\")\n",
        "\n",
        "# c) UPDATE – add 10% discount and reduce price on all Furniture\n",
        "upd = products.update_many(\n",
        "    {\"category\": \"Furniture\"},\n",
        "    [\n",
        "      {\"$set\": {\"discount\": 0.10}},\n",
        "      {\"$set\": {\"price\": {\"$round\": [{ \"$multiply\": [\"$price\", 0.90] }, 2]}}}\n",
        "    ]\n",
        ")\n",
        "print(f\"\\n🔧 Applied discount to {upd.modified_count} furniture items\")\n",
        "\n",
        "# d) DELETE – remove everything with inventory < 5\n",
        "del_res = products.delete_many({\"inventory\": {\"$lt\": 5}})\n",
        "print(f\"🗑️  Deleted {del_res.deleted_count} low-inventory products\")\n"
      ],
      "metadata": {
        "colab": {
          "base_uri": "https://localhost:8080/"
        },
        "id": "3TDOlKoTyz9c",
        "outputId": "86f3d6b1-4fb1-4d60-de1f-ec25101c26e5"
      },
      "execution_count": 5,
      "outputs": [
        {
          "output_type": "stream",
          "name": "stdout",
          "text": [
            "Created 5 more → 5 new documents\n",
            "\n",
            "📦 Electronics > $500:\n",
            " • Laptop: $1200 (stock: 10)\n",
            "\n",
            "🔧 Applied discount to 2 furniture items\n",
            "🗑️  Deleted 0 low-inventory products\n"
          ]
        }
      ]
    },
    {
      "cell_type": "code",
      "source": [
        "# Cell 6: add a “reviews” array to an existing doc (e.g. T-Shirt)\n",
        "evolve = products.update_one(\n",
        "    {\"name\": \"T-Shirt\"},\n",
        "    {\"$set\": {\n",
        "        \"reviews\": [\n",
        "            {\"user\": \"Charlie\", \"rating\": 3},\n",
        "            {\"user\": \"Dana\",    \"rating\": 4}\n",
        "        ]\n",
        "    }}\n",
        ")\n",
        "print(f\"\\n✏️  Schema evolution on T-Shirt → matched {evolve.matched_count}, modified {evolve.modified_count}\")\n",
        "\n",
        "# And one more example: add a “rating” field to Watch\n",
        "evolve2 = products.update_one(\n",
        "    {\"name\": \"Watch\"},\n",
        "    {\"$set\": {\"averageRating\": 4.8}}\n",
        ")\n",
        "print(f\"✏️  Added averageRating to Watch → matched {evolve2.matched_count}, modified {evolve2.modified_count}\")\n"
      ],
      "metadata": {
        "colab": {
          "base_uri": "https://localhost:8080/"
        },
        "id": "x4PKiF_iy4NW",
        "outputId": "d4e2e436-746a-4e4e-c62c-b63ac18196d4"
      },
      "execution_count": 6,
      "outputs": [
        {
          "output_type": "stream",
          "name": "stdout",
          "text": [
            "\n",
            "✏️  Schema evolution on T-Shirt → matched 1, modified 1\n",
            "✏️  Added averageRating to Watch → matched 1, modified 1\n"
          ]
        }
      ]
    }
  ]
}