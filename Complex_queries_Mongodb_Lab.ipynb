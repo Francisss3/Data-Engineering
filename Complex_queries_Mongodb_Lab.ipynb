{
  "nbformat": 4,
  "nbformat_minor": 0,
  "metadata": {
    "colab": {
      "provenance": [],
      "authorship_tag": "ABX9TyPHnIVWXyPdA4BF8dG/jhy9",
      "include_colab_link": true
    },
    "kernelspec": {
      "name": "python3",
      "display_name": "Python 3"
    },
    "language_info": {
      "name": "python"
    }
  },
  "cells": [
    {
      "cell_type": "markdown",
      "metadata": {
        "id": "view-in-github",
        "colab_type": "text"
      },
      "source": [
        "<a href=\"https://colab.research.google.com/github/Francisss3/Data-Engineering/blob/main/Complex_queries_Mongodb_Lab.ipynb\" target=\"_parent\"><img src=\"https://colab.research.google.com/assets/colab-badge.svg\" alt=\"Open In Colab\"/></a>"
      ]
    },
    {
      "cell_type": "code",
      "execution_count": 1,
      "metadata": {
        "colab": {
          "base_uri": "https://localhost:8080/"
        },
        "id": "WtjYjkNp2Nyf",
        "outputId": "d5fca2ee-a87f-4d63-c5d3-9856d73bbfab"
      },
      "outputs": [
        {
          "output_type": "stream",
          "name": "stdout",
          "text": [
            "Requirement already satisfied: dnspython in /usr/local/lib/python3.11/dist-packages (2.7.0)\n",
            "Requirement already satisfied: certifi in /usr/local/lib/python3.11/dist-packages (2025.6.15)\n",
            "Requirement already satisfied: pymongo[srv] in /usr/local/lib/python3.11/dist-packages (4.13.1)\n",
            "\u001b[33mWARNING: pymongo 4.13.1 does not provide the extra 'srv'\u001b[0m\u001b[33m\n",
            "\u001b[0m"
          ]
        }
      ],
      "source": [
        "!pip install --upgrade pymongo[srv] dnspython certifi\n"
      ]
    },
    {
      "cell_type": "code",
      "source": [
        "import certifi\n",
        "from pymongo.mongo_client import MongoClient\n",
        "from pymongo.server_api import ServerApi\n",
        "\n",
        "# Atlas credentials\n",
        "username = \"charbelfrancis03\"\n",
        "password = \"hUmsVOJeW3LRlLZ6\"\n",
        "\n",
        "# build the SRV URI\n",
        "uri = (\n",
        "    f\"mongodb+srv://{username}:{password}\"\n",
        "    \"@cluster0.8otd0br.mongodb.net\"\n",
        "    \"/?retryWrites=true&w=majority\"\n",
        ")\n",
        "\n",
        "# create the client using certifi’s CA bundle\n",
        "client = MongoClient(\n",
        "    uri,\n",
        "    server_api=ServerApi(\"1\"),\n",
        "    tls=True,\n",
        "    tlsCAFile=certifi.where()\n",
        ")\n",
        "\n",
        "# test the connection\n",
        "try:\n",
        "    client.admin.command(\"ping\")\n",
        "    print(\"✅ Connected to MongoDB Atlas!\")\n",
        "except Exception as e:\n",
        "    print(\"❌ Connection failed:\", e)\n"
      ],
      "metadata": {
        "colab": {
          "base_uri": "https://localhost:8080/"
        },
        "id": "QpJqWZqp28_I",
        "outputId": "8d34b27f-6d41-4e22-928e-7f6631f9ddef"
      },
      "execution_count": 2,
      "outputs": [
        {
          "output_type": "stream",
          "name": "stdout",
          "text": [
            "✅ Connected to MongoDB Atlas!\n"
          ]
        }
      ]
    },
    {
      "cell_type": "code",
      "source": [
        "# List all collections in the “ecommerce” database\n",
        "print(\"Collections:\", db.list_collection_names())\n",
        "\n",
        "# If there is an 'orders' collection, count how many docs are in it\n",
        "count = orders.count_documents({})\n",
        "print(\"orders.count =\", count)\n",
        "\n",
        "# Print up to 5 sample documents (if any exist)\n",
        "print(\"Sample orders:\")\n",
        "for doc in orders.find().limit(5):\n",
        "    print(doc)\n"
      ],
      "metadata": {
        "colab": {
          "base_uri": "https://localhost:8080/"
        },
        "id": "VsMuEGWo32df",
        "outputId": "d6555a25-945d-4e57-ae7a-417f228d0cf8"
      },
      "execution_count": 7,
      "outputs": [
        {
          "output_type": "stream",
          "name": "stdout",
          "text": [
            "Collections: ['products']\n",
            "orders.count = 0\n",
            "Sample orders:\n"
          ]
        }
      ]
    },
    {
      "cell_type": "code",
      "source": [
        "import datetime\n",
        "\n",
        "# 1) Define a few sample orders\n",
        "sample_orders = [\n",
        "    {\n",
        "        \"order_id\": 1001,\n",
        "        \"customer\": {\"name\": \"John Doe\",  \"email\": \"john@example.com\"},\n",
        "        \"items\": [\n",
        "            {\"product\": \"Laptop\",     \"quantity\": 1, \"price\": 1200},\n",
        "            {\"product\": \"Headphones\", \"quantity\": 2, \"price\": 150}\n",
        "        ],\n",
        "        \"total\": 1500,\n",
        "        \"order_date\": datetime.datetime(2025, 6, 16, 10, 0)\n",
        "    },\n",
        "    {\n",
        "        \"order_id\": 1002,\n",
        "        \"customer\": {\"name\": \"Jane Smith\",\"email\": \"jane@example.com\"},\n",
        "        \"items\": [\n",
        "            {\"product\": \"T-Shirt\", \"quantity\": 3, \"price\": 20}\n",
        "        ],\n",
        "        \"total\": 60,\n",
        "        \"order_date\": datetime.datetime(2025, 6, 15, 14, 30)\n",
        "    },\n",
        "    {\n",
        "        \"order_id\": 1003,\n",
        "        \"customer\": {\"name\": \"John Doe\",  \"email\": \"john@example.com\"},\n",
        "        \"items\": [\n",
        "            {\"product\": \"Sofa\",  \"quantity\": 1, \"price\": 700}\n",
        "        ],\n",
        "        \"total\": 700,\n",
        "        \"order_date\": datetime.datetime(2025, 6, 14, 9, 10)\n",
        "    }\n",
        "]\n",
        "\n",
        "# 2) Insert into Atlas collection\n",
        "result = orders.insert_many(sample_orders)\n",
        "print(\"Inserted order_ids:\", result.inserted_ids)\n",
        "\n",
        "# 3) Verify\n",
        "print(\"New count:\", orders.count_documents({}))\n"
      ],
      "metadata": {
        "colab": {
          "base_uri": "https://localhost:8080/"
        },
        "id": "sRqnKteQ4jIl",
        "outputId": "b7fe0a14-685c-41f3-cf95-89e133a67558"
      },
      "execution_count": 8,
      "outputs": [
        {
          "output_type": "stream",
          "name": "stdout",
          "text": [
            "Inserted order_ids: [ObjectId('6850192c29dad0e28659d318'), ObjectId('6850192c29dad0e28659d319'), ObjectId('6850192c29dad0e28659d31a')]\n",
            "New count: 3\n"
          ]
        }
      ]
    },
    {
      "cell_type": "code",
      "source": [
        "print(\"Collections:\", db.list_collection_names())\n",
        "print(\"orders.count =\", orders.count_documents({}))\n",
        "for doc in orders.find().limit(5):\n",
        "    print(doc)\n"
      ],
      "metadata": {
        "colab": {
          "base_uri": "https://localhost:8080/"
        },
        "id": "X5FrPOMi4o7t",
        "outputId": "4e8fd1b3-173d-4beb-82b7-1075b1eafc30"
      },
      "execution_count": 9,
      "outputs": [
        {
          "output_type": "stream",
          "name": "stdout",
          "text": [
            "Collections: ['orders', 'products']\n",
            "orders.count = 3\n",
            "{'_id': ObjectId('6850192c29dad0e28659d318'), 'order_id': 1001, 'customer': {'name': 'John Doe', 'email': 'john@example.com'}, 'items': [{'product': 'Laptop', 'quantity': 1, 'price': 1200}, {'product': 'Headphones', 'quantity': 2, 'price': 150}], 'total': 1500, 'order_date': datetime.datetime(2025, 6, 16, 10, 0)}\n",
            "{'_id': ObjectId('6850192c29dad0e28659d319'), 'order_id': 1002, 'customer': {'name': 'Jane Smith', 'email': 'jane@example.com'}, 'items': [{'product': 'T-Shirt', 'quantity': 3, 'price': 20}], 'total': 60, 'order_date': datetime.datetime(2025, 6, 15, 14, 30)}\n",
            "{'_id': ObjectId('6850192c29dad0e28659d31a'), 'order_id': 1003, 'customer': {'name': 'John Doe', 'email': 'john@example.com'}, 'items': [{'product': 'Sofa', 'quantity': 1, 'price': 700}], 'total': 700, 'order_date': datetime.datetime(2025, 6, 14, 9, 10)}\n"
          ]
        }
      ]
    },
    {
      "cell_type": "code",
      "source": [
        "# Task 1 – Filtering Data\n",
        "# Find all orders by “John Doe” with total > 500,\n",
        "# and project only order_id & total.\n",
        "\n",
        "cursor = orders.find(\n",
        "    {\n",
        "        \"customer.name\": \"John Doe\",   # nested field match\n",
        "        \"total\": {\"$gt\": 500}          # total greater than $500\n",
        "    },\n",
        "    {\n",
        "        \"_id\": 0,                      # hide the Mongo _id\n",
        "        \"order_id\": 1,\n",
        "        \"total\": 1\n",
        "    }\n",
        ")\n",
        "\n",
        "print(\"Orders by John Doe over $500:\")\n",
        "for doc in cursor:\n",
        "    print(doc)\n"
      ],
      "metadata": {
        "colab": {
          "base_uri": "https://localhost:8080/"
        },
        "id": "Jz2K2cdq4ywh",
        "outputId": "e6cb0e8c-c314-4051-8367-ea873f024ccd"
      },
      "execution_count": 10,
      "outputs": [
        {
          "output_type": "stream",
          "name": "stdout",
          "text": [
            "Orders by John Doe over $500:\n",
            "{'order_id': 1001, 'total': 1500}\n",
            "{'order_id': 1003, 'total': 700}\n"
          ]
        }
      ]
    },
    {
      "cell_type": "code",
      "source": [
        "# Task 2 – Sorting Data\n",
        "# Retrieve all orders, sorted by:\n",
        "#  1) order_date descending  (newest first)\n",
        "#  2) total ascending         (cheapest first among same date)\n",
        "\n",
        "results = orders.find(\n",
        "    {},\n",
        "    {\"_id\": 0, \"order_id\": 1, \"order_date\": 1, \"total\": 1}\n",
        ").sort([\n",
        "    (\"order_date\", -1),  # -1 = descending\n",
        "    (\"total\", 1)         #  1 = ascending\n",
        "])\n",
        "\n",
        "print(\"All orders, sorted by date ↓ and total ↑:\")\n",
        "for doc in results:\n",
        "    print(doc)\n"
      ],
      "metadata": {
        "colab": {
          "base_uri": "https://localhost:8080/"
        },
        "id": "kIjcN-D247KQ",
        "outputId": "89381c12-bd52-4966-9d59-51e2bc39ccd3"
      },
      "execution_count": 11,
      "outputs": [
        {
          "output_type": "stream",
          "name": "stdout",
          "text": [
            "All orders, sorted by date ↓ and total ↑:\n",
            "{'order_id': 1001, 'total': 1500, 'order_date': datetime.datetime(2025, 6, 16, 10, 0)}\n",
            "{'order_id': 1002, 'total': 60, 'order_date': datetime.datetime(2025, 6, 15, 14, 30)}\n",
            "{'order_id': 1003, 'total': 700, 'order_date': datetime.datetime(2025, 6, 14, 9, 10)}\n"
          ]
        }
      ]
    },
    {
      "cell_type": "code",
      "source": [
        "# Task 3 – Aggregation: Total Sales per Product\n",
        "# 1) unwind the items array so each item is its own document\n",
        "# 2) group by items.product\n",
        "# 3) sum quantity * price to get revenue per product\n",
        "\n",
        "pipeline = [\n",
        "    {\"$unwind\": \"$items\"},\n",
        "    {\n",
        "        \"$group\": {\n",
        "            \"_id\": \"$items.product\",\n",
        "            \"totalSales\": {\n",
        "                \"$sum\": { \"$multiply\": [\"$items.quantity\", \"$items.price\"] }\n",
        "            }\n",
        "        }\n",
        "    }\n",
        "]\n",
        "\n",
        "agg_result = list(orders.aggregate(pipeline))\n",
        "print(\"Total revenue per product:\")\n",
        "for r in agg_result:\n",
        "    print(r)\n"
      ],
      "metadata": {
        "colab": {
          "base_uri": "https://localhost:8080/"
        },
        "id": "lE9xWIx94_Di",
        "outputId": "f55dd771-2032-4d35-f4e8-9bbccee7bc07"
      },
      "execution_count": 12,
      "outputs": [
        {
          "output_type": "stream",
          "name": "stdout",
          "text": [
            "Total revenue per product:\n",
            "{'_id': 'Laptop', 'totalSales': 1200}\n",
            "{'_id': 'Headphones', 'totalSales': 300}\n",
            "{'_id': 'Sofa', 'totalSales': 700}\n",
            "{'_id': 'T-Shirt', 'totalSales': 60}\n"
          ]
        }
      ]
    },
    {
      "cell_type": "code",
      "source": [
        "# Task 4 – Aggregation: Average Order Value per Customer\n",
        "# 1) group by customer.name\n",
        "# 2) average the 'total' field\n",
        "\n",
        "pipeline = [\n",
        "    {\n",
        "        \"$group\": {\n",
        "            \"_id\": \"$customer.name\",\n",
        "            \"averageOrderValue\": { \"$avg\": \"$total\" }\n",
        "        }\n",
        "    }\n",
        "]\n",
        "\n",
        "avg_result = list(orders.aggregate(pipeline))\n",
        "print(\"Average order value per customer:\")\n",
        "for r in avg_result:\n",
        "    print(r)\n"
      ],
      "metadata": {
        "colab": {
          "base_uri": "https://localhost:8080/"
        },
        "id": "FfUbuLWC5DHM",
        "outputId": "667a43d7-2561-42ca-ee7f-8fcfd90e1963"
      },
      "execution_count": 13,
      "outputs": [
        {
          "output_type": "stream",
          "name": "stdout",
          "text": [
            "Average order value per customer:\n",
            "{'_id': 'John Doe', 'averageOrderValue': 1100.0}\n",
            "{'_id': 'Jane Smith', 'averageOrderValue': 60.0}\n"
          ]
        }
      ]
    },
    {
      "cell_type": "code",
      "source": [
        "# Task 5 – Top 5 Products by Quantity Sold\n",
        "# 1) unwind items\n",
        "# 2) group by product, summing quantity\n",
        "# 3) sort descending by quantitySold\n",
        "# 4) limit to top 5\n",
        "\n",
        "pipeline = [\n",
        "    {\"$unwind\": \"$items\"},\n",
        "    {\n",
        "        \"$group\": {\n",
        "            \"_id\": \"$items.product\",\n",
        "            \"quantitySold\": { \"$sum\": \"$items.quantity\" }\n",
        "        }\n",
        "    },\n",
        "    {\"$sort\": {\"quantitySold\": -1}},\n",
        "    {\"$limit\": 5}\n",
        "]\n",
        "\n",
        "top5 = list(orders.aggregate(pipeline))\n",
        "print(\"Top 5 products by quantity sold:\")\n",
        "for r in top5:\n",
        "    print(r)\n"
      ],
      "metadata": {
        "colab": {
          "base_uri": "https://localhost:8080/"
        },
        "id": "CZ8IY8-d5HIm",
        "outputId": "57afe2a3-9415-4256-d7cb-00614c2c8d26"
      },
      "execution_count": 14,
      "outputs": [
        {
          "output_type": "stream",
          "name": "stdout",
          "text": [
            "Top 5 products by quantity sold:\n",
            "{'_id': 'T-Shirt', 'quantitySold': 3}\n",
            "{'_id': 'Headphones', 'quantitySold': 2}\n",
            "{'_id': 'Sofa', 'quantitySold': 1}\n",
            "{'_id': 'Laptop', 'quantitySold': 1}\n"
          ]
        }
      ]
    }
  ]
}