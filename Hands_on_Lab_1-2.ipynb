{
 "cells": [
  {
   "cell_type": "markdown",
   "metadata": {
    "id": "br0Qd7WyYBcq"
   },
   "source": [
    "# **Week 1 Hands-on Lab: Data Visualization using Dash**\n",
    "\n",
    "\n"
   ]
  },
  {
   "cell_type": "markdown",
   "metadata": {
    "id": "DGSzwClYbFQ7"
   },
   "source": [
    "**Introduction**\n",
    "This notebook will guide you through building an interactive dashboard using the Python Dash framework. Dash allows you to create interactive, web-based visualizations, integrating charts and graphs with user inputs like dropdowns and sliders.\n",
    "\n",
    "We will:\n",
    "- Use the Gapminder dataset, which tracks global life expectancy, GDP, and population data across countries and years.\n",
    "- Create a dynamic dashboard that allows users to explore this data interactively.\n",
    "\n",
    "Let's get started!\n",
    "\n",
    "---"
   ]
  },
  {
   "cell_type": "markdown",
   "metadata": {
    "id": "Z4TcZkeSbNOo"
   },
   "source": [
    "**Step 1: Install Required Libraries**\n",
    "To begin, we need to install the necessary Python libraries for our project. These include:\n",
    "- **Dash**: The core library for building interactive web applications.\n",
    "- **Dash Bootstrap Components**: An optional library to style the layout (provides pre-built styles).\n",
    "- **Plotly**: A powerful data visualization library used to create interactive plots.\n",
    "- **Pandas**: Used for data manipulation and analysis.\n",
    "\n",
    "Run the following code to install these libraries:"
   ]
  },
  {
   "cell_type": "code",
   "execution_count": 1,
   "metadata": {
    "colab": {
     "base_uri": "https://localhost:8080/"
    },
    "id": "trc-Avg_bUc4",
    "outputId": "9bc71967-ef21-4c1e-dd26-d269606b2c55"
   },
   "outputs": [
    {
     "name": "stdout",
     "output_type": "stream",
     "text": [
      "Collecting dash\n",
      "  Downloading dash-3.0.4-py3-none-any.whl.metadata (10 kB)\n",
      "Collecting dash-bootstrap-components\n",
      "  Downloading dash_bootstrap_components-2.0.3-py3-none-any.whl.metadata (18 kB)\n",
      "Requirement already satisfied: pandas in /Library/Frameworks/Python.framework/Versions/3.12/lib/python3.12/site-packages (2.2.1)\n",
      "Requirement already satisfied: plotly in /Library/Frameworks/Python.framework/Versions/3.12/lib/python3.12/site-packages (5.23.0)\n",
      "Collecting Flask<3.1,>=1.0.4 (from dash)\n",
      "  Downloading flask-3.0.3-py3-none-any.whl.metadata (3.2 kB)\n",
      "Requirement already satisfied: Werkzeug<3.1 in /Library/Frameworks/Python.framework/Versions/3.12/lib/python3.12/site-packages (from dash) (3.0.3)\n",
      "Collecting importlib-metadata (from dash)\n",
      "  Downloading importlib_metadata-8.7.0-py3-none-any.whl.metadata (4.8 kB)\n",
      "Requirement already satisfied: typing-extensions>=4.1.1 in /Library/Frameworks/Python.framework/Versions/3.12/lib/python3.12/site-packages (from dash) (4.12.2)\n",
      "Requirement already satisfied: requests in /Library/Frameworks/Python.framework/Versions/3.12/lib/python3.12/site-packages (from dash) (2.31.0)\n",
      "Collecting retrying (from dash)\n",
      "  Downloading retrying-1.3.4-py3-none-any.whl.metadata (6.9 kB)\n",
      "Requirement already satisfied: nest-asyncio in /Library/Frameworks/Python.framework/Versions/3.12/lib/python3.12/site-packages (from dash) (1.6.0)\n",
      "Requirement already satisfied: setuptools in /Library/Frameworks/Python.framework/Versions/3.12/lib/python3.12/site-packages (from dash) (71.1.0)\n",
      "Requirement already satisfied: numpy<2,>=1.26.0 in /Library/Frameworks/Python.framework/Versions/3.12/lib/python3.12/site-packages (from pandas) (1.26.4)\n",
      "Requirement already satisfied: python-dateutil>=2.8.2 in /Library/Frameworks/Python.framework/Versions/3.12/lib/python3.12/site-packages (from pandas) (2.8.2)\n",
      "Requirement already satisfied: pytz>=2020.1 in /Library/Frameworks/Python.framework/Versions/3.12/lib/python3.12/site-packages (from pandas) (2024.1)\n",
      "Requirement already satisfied: tzdata>=2022.7 in /Library/Frameworks/Python.framework/Versions/3.12/lib/python3.12/site-packages (from pandas) (2024.1)\n",
      "Requirement already satisfied: tenacity>=6.2.0 in /Library/Frameworks/Python.framework/Versions/3.12/lib/python3.12/site-packages (from plotly) (8.5.0)\n",
      "Requirement already satisfied: packaging in /Library/Frameworks/Python.framework/Versions/3.12/lib/python3.12/site-packages (from plotly) (23.2)\n",
      "Requirement already satisfied: Jinja2>=3.1.2 in /Library/Frameworks/Python.framework/Versions/3.12/lib/python3.12/site-packages (from Flask<3.1,>=1.0.4->dash) (3.1.3)\n",
      "Collecting itsdangerous>=2.1.2 (from Flask<3.1,>=1.0.4->dash)\n",
      "  Downloading itsdangerous-2.2.0-py3-none-any.whl.metadata (1.9 kB)\n",
      "Requirement already satisfied: click>=8.1.3 in /Library/Frameworks/Python.framework/Versions/3.12/lib/python3.12/site-packages (from Flask<3.1,>=1.0.4->dash) (8.1.7)\n",
      "Collecting blinker>=1.6.2 (from Flask<3.1,>=1.0.4->dash)\n",
      "  Downloading blinker-1.9.0-py3-none-any.whl.metadata (1.6 kB)\n",
      "Requirement already satisfied: six>=1.5 in /Library/Frameworks/Python.framework/Versions/3.12/lib/python3.12/site-packages (from python-dateutil>=2.8.2->pandas) (1.16.0)\n",
      "Requirement already satisfied: MarkupSafe>=2.1.1 in /Library/Frameworks/Python.framework/Versions/3.12/lib/python3.12/site-packages (from Werkzeug<3.1->dash) (2.1.4)\n",
      "Collecting zipp>=3.20 (from importlib-metadata->dash)\n",
      "  Downloading zipp-3.23.0-py3-none-any.whl.metadata (3.6 kB)\n",
      "Requirement already satisfied: charset-normalizer<4,>=2 in /Library/Frameworks/Python.framework/Versions/3.12/lib/python3.12/site-packages (from requests->dash) (3.3.2)\n",
      "Requirement already satisfied: idna<4,>=2.5 in /Library/Frameworks/Python.framework/Versions/3.12/lib/python3.12/site-packages (from requests->dash) (3.6)\n",
      "Requirement already satisfied: urllib3<3,>=1.21.1 in /Library/Frameworks/Python.framework/Versions/3.12/lib/python3.12/site-packages (from requests->dash) (2.1.0)\n",
      "Requirement already satisfied: certifi>=2017.4.17 in /Library/Frameworks/Python.framework/Versions/3.12/lib/python3.12/site-packages (from requests->dash) (2024.8.30)\n",
      "Downloading dash-3.0.4-py3-none-any.whl (7.9 MB)\n",
      "\u001b[2K   \u001b[90m━━━━━━━━━━━━━━━━━━━━━━━━━━━━━━━━━━━━━━━━\u001b[0m \u001b[32m7.9/7.9 MB\u001b[0m \u001b[31m410.6 kB/s\u001b[0m eta \u001b[36m0:00:00\u001b[0m00:01\u001b[0m00:01\u001b[0m\n",
      "\u001b[?25hDownloading dash_bootstrap_components-2.0.3-py3-none-any.whl (203 kB)\n",
      "\u001b[2K   \u001b[90m━━━━━━━━━━━━━━━━━━━━━━━━━━━━━━━━━━━━━━━\u001b[0m \u001b[32m203.7/203.7 kB\u001b[0m \u001b[31m314.5 kB/s\u001b[0m eta \u001b[36m0:00:00\u001b[0ma \u001b[36m0:00:01\u001b[0m\n",
      "\u001b[?25hDownloading flask-3.0.3-py3-none-any.whl (101 kB)\n",
      "\u001b[2K   \u001b[90m━━━━━━━━━━━━━━━━━━━━━━━━━━━━━━━━━━━━━━━\u001b[0m \u001b[32m101.7/101.7 kB\u001b[0m \u001b[31m313.5 kB/s\u001b[0m eta \u001b[36m0:00:00\u001b[0ma \u001b[36m0:00:01\u001b[0m\n",
      "\u001b[?25hDownloading importlib_metadata-8.7.0-py3-none-any.whl (27 kB)\n",
      "Downloading retrying-1.3.4-py3-none-any.whl (11 kB)\n",
      "Downloading blinker-1.9.0-py3-none-any.whl (8.5 kB)\n",
      "Downloading itsdangerous-2.2.0-py3-none-any.whl (16 kB)\n",
      "Downloading zipp-3.23.0-py3-none-any.whl (10 kB)\n",
      "Installing collected packages: zipp, retrying, itsdangerous, blinker, importlib-metadata, Flask, dash, dash-bootstrap-components\n",
      "Successfully installed Flask-3.0.3 blinker-1.9.0 dash-3.0.4 dash-bootstrap-components-2.0.3 importlib-metadata-8.7.0 itsdangerous-2.2.0 retrying-1.3.4 zipp-3.23.0\n",
      "\n",
      "\u001b[1m[\u001b[0m\u001b[34;49mnotice\u001b[0m\u001b[1;39;49m]\u001b[0m\u001b[39;49m A new release of pip is available: \u001b[0m\u001b[31;49m24.1.2\u001b[0m\u001b[39;49m -> \u001b[0m\u001b[32;49m25.1.1\u001b[0m\n",
      "\u001b[1m[\u001b[0m\u001b[34;49mnotice\u001b[0m\u001b[1;39;49m]\u001b[0m\u001b[39;49m To update, run: \u001b[0m\u001b[32;49mpip install --upgrade pip\u001b[0m\n"
     ]
    }
   ],
   "source": [
    "!pip install dash dash-bootstrap-components pandas plotly"
   ]
  },
  {
   "cell_type": "markdown",
   "metadata": {
    "id": "w2n6gRvjbex1"
   },
   "source": [
    "**Step 2: Import the Libraries**\n",
    "\n",
    "Next, we'll import the libraries we just installed. These will allow us to load the dataset, build the layout, and create interactive visualizations."
   ]
  },
  {
   "cell_type": "code",
   "execution_count": 4,
   "metadata": {
    "id": "gjbf96vrbouV"
   },
   "outputs": [],
   "source": [
    "import dash\n",
    "from dash import dcc, html, Input, Output\n",
    "import plotly.express as px\n",
    "import pandas as pd\n",
    "import dash_bootstrap_components as dbc # Added for better styling"
   ]
  },
  {
   "cell_type": "markdown",
   "metadata": {
    "id": "eefOpbGtbva5"
   },
   "source": [
    "- dash: Core Dash library for building the app.\n",
    "- dash_core_components and dash_html_components: Used to create interactive controls like dropdowns and HTML elements for the layout.\n",
    "- plotly.express: Simplified interface for creating visualizations.\n",
    "- pandas: For data handling."
   ]
  },
  {
   "cell_type": "markdown",
   "metadata": {
    "id": "fYJ8-rphb8jc"
   },
   "source": [
    "**Step 3: Load the Dataset**\n",
    "\n",
    "For this lab, we will use the **Gapminder dataset**, which contains information about life expectancy, GDP, and population by country across several years.\n",
    "\n",
    "We'll load the data using Pandas and inspect the first few rows.\n",
    "\n"
   ]
  },
  {
   "cell_type": "code",
   "execution_count": 5,
   "metadata": {
    "id": "AoIKpMKZcHVV"
   },
   "outputs": [
    {
     "data": {
      "text/html": [
       "<div>\n",
       "<style scoped>\n",
       "    .dataframe tbody tr th:only-of-type {\n",
       "        vertical-align: middle;\n",
       "    }\n",
       "\n",
       "    .dataframe tbody tr th {\n",
       "        vertical-align: top;\n",
       "    }\n",
       "\n",
       "    .dataframe thead th {\n",
       "        text-align: right;\n",
       "    }\n",
       "</style>\n",
       "<table border=\"1\" class=\"dataframe\">\n",
       "  <thead>\n",
       "    <tr style=\"text-align: right;\">\n",
       "      <th></th>\n",
       "      <th>country</th>\n",
       "      <th>continent</th>\n",
       "      <th>year</th>\n",
       "      <th>lifeExp</th>\n",
       "      <th>pop</th>\n",
       "      <th>gdpPercap</th>\n",
       "      <th>iso_alpha</th>\n",
       "      <th>iso_num</th>\n",
       "    </tr>\n",
       "  </thead>\n",
       "  <tbody>\n",
       "    <tr>\n",
       "      <th>0</th>\n",
       "      <td>Afghanistan</td>\n",
       "      <td>Asia</td>\n",
       "      <td>1952</td>\n",
       "      <td>28.801</td>\n",
       "      <td>8425333</td>\n",
       "      <td>779.445314</td>\n",
       "      <td>AFG</td>\n",
       "      <td>4</td>\n",
       "    </tr>\n",
       "    <tr>\n",
       "      <th>1</th>\n",
       "      <td>Afghanistan</td>\n",
       "      <td>Asia</td>\n",
       "      <td>1957</td>\n",
       "      <td>30.332</td>\n",
       "      <td>9240934</td>\n",
       "      <td>820.853030</td>\n",
       "      <td>AFG</td>\n",
       "      <td>4</td>\n",
       "    </tr>\n",
       "    <tr>\n",
       "      <th>2</th>\n",
       "      <td>Afghanistan</td>\n",
       "      <td>Asia</td>\n",
       "      <td>1962</td>\n",
       "      <td>31.997</td>\n",
       "      <td>10267083</td>\n",
       "      <td>853.100710</td>\n",
       "      <td>AFG</td>\n",
       "      <td>4</td>\n",
       "    </tr>\n",
       "    <tr>\n",
       "      <th>3</th>\n",
       "      <td>Afghanistan</td>\n",
       "      <td>Asia</td>\n",
       "      <td>1967</td>\n",
       "      <td>34.020</td>\n",
       "      <td>11537966</td>\n",
       "      <td>836.197138</td>\n",
       "      <td>AFG</td>\n",
       "      <td>4</td>\n",
       "    </tr>\n",
       "    <tr>\n",
       "      <th>4</th>\n",
       "      <td>Afghanistan</td>\n",
       "      <td>Asia</td>\n",
       "      <td>1972</td>\n",
       "      <td>36.088</td>\n",
       "      <td>13079460</td>\n",
       "      <td>739.981106</td>\n",
       "      <td>AFG</td>\n",
       "      <td>4</td>\n",
       "    </tr>\n",
       "  </tbody>\n",
       "</table>\n",
       "</div>"
      ],
      "text/plain": [
       "       country continent  year  lifeExp       pop   gdpPercap iso_alpha  \\\n",
       "0  Afghanistan      Asia  1952   28.801   8425333  779.445314       AFG   \n",
       "1  Afghanistan      Asia  1957   30.332   9240934  820.853030       AFG   \n",
       "2  Afghanistan      Asia  1962   31.997  10267083  853.100710       AFG   \n",
       "3  Afghanistan      Asia  1967   34.020  11537966  836.197138       AFG   \n",
       "4  Afghanistan      Asia  1972   36.088  13079460  739.981106       AFG   \n",
       "\n",
       "   iso_num  \n",
       "0        4  \n",
       "1        4  \n",
       "2        4  \n",
       "3        4  \n",
       "4        4  "
      ]
     },
     "execution_count": 5,
     "metadata": {},
     "output_type": "execute_result"
    }
   ],
   "source": [
    "# Load the dataset\n",
    "df = px.data.gapminder()\n",
    "\n",
    "# Display the first few rows of the dataset\n",
    "df.head()"
   ]
  },
  {
   "cell_type": "markdown",
   "metadata": {
    "id": "EOI1eAnMcYJD"
   },
   "source": [
    "This dataset includes columns such as:\n",
    "\n",
    "- **country:** Name of the country.\n",
    "- **year:** The year of the observation.\n",
    "- **lifeExp**: Life expectancy in years.\n",
    "- **gdpPercap:** GDP per capita.\n",
    "- **pop:** Population size.\n"
   ]
  },
  {
   "cell_type": "markdown",
   "metadata": {
    "id": "b74iHU0IcmmO"
   },
   "source": [
    "**Step 4: Set Up the Dash Application**\n",
    "\n",
    "Now, we will create a Dash application object. This object will control the flow of the app, its layout, and the interactive elements (like dropdowns)."
   ]
  },
  {
   "cell_type": "code",
   "execution_count": 6,
   "metadata": {
    "id": "SEOueQmccsB9"
   },
   "outputs": [],
   "source": [
    "# Initialize the Dash app\n",
    "app = dash.Dash(__name__)"
   ]
  },
  {
   "cell_type": "markdown",
   "metadata": {
    "id": "QjhZPQGpcvHs"
   },
   "source": [
    "Here, __name__ is passed as the name of the module so that Dash can locate resources (CSS, JS) correctly.\n",
    "\n"
   ]
  },
  {
   "cell_type": "markdown",
   "metadata": {
    "id": "dBJARVXJc61L"
   },
   "source": [
    "**Step 5: Create the Layout for the Dashboard**\n",
    "\n",
    "Dash uses a component-based layout. You can think of the layout as the structure of your web page, where you can add HTML components and graphs. We will create two dropdowns and two graphs for our dashboard."
   ]
  },
  {
   "cell_type": "code",
   "execution_count": 7,
   "metadata": {
    "id": "F3W7sXBoc_kz"
   },
   "outputs": [],
   "source": [
    "# Define the layout of the app\n",
    "app.layout = html.Div([\n",
    "    html.H1(\"Interactive Data Visualization Dashboard\", style={'text-align': 'center'}),\n",
    "\n",
    "    # Dropdown for selecting the country\n",
    "    dcc.Dropdown(\n",
    "        id=\"selected-country\",\n",
    "        options=[{'label': country, 'value': country} for country in df['country'].unique()],\n",
    "        value='India',  # Default value\n",
    "        multi=False,\n",
    "        style={'width': '50%'}\n",
    "    ),\n",
    "\n",
    "    # Graph for visualizing life expectancy over time\n",
    "    dcc.Graph(id=\"line-chart\"),\n",
    "\n",
    "    # Dropdown for selecting the continent\n",
    "    dcc.Dropdown(\n",
    "        id=\"selected-continent\",\n",
    "        options=[{'label': continent, 'value': continent} for continent in df['continent'].unique()],\n",
    "        value='Asia',  # Default value\n",
    "        multi=False,\n",
    "        style={'width': '50%'}\n",
    "    ),\n",
    "\n",
    "    # Graph for visualizing GDP vs Life Expectancy\n",
    "    dcc.Graph(id=\"scatter-plot\")\n",
    "])"
   ]
  },
  {
   "cell_type": "markdown",
   "metadata": {
    "id": "EWD-XCZKdFL5"
   },
   "source": [
    "**Explanation:**\n",
    "\n",
    "- **html.Div:** A container that holds the layout. We use it to organize all elements vertically.\n",
    "- **html.H1:** A heading element for the dashboard title.\n",
    "- **dcc.Dropdown:** A dropdown component to let users select a country or continent.\n",
    "- **dcc.Graph:** A component to display the graphs."
   ]
  },
  {
   "cell_type": "markdown",
   "metadata": {
    "id": "Vif8WAIvdShq"
   },
   "source": [
    "**Step 6: Create the Callback Functions for Interactivity**\n",
    "\n",
    "Callbacks in Dash make the dashboard interactive by connecting input (like dropdowns) to outputs (like graphs). Whenever the user changes the dropdown, the callback functions will be triggered to update the graphs."
   ]
  },
  {
   "cell_type": "code",
   "execution_count": 8,
   "metadata": {
    "id": "M_ZUrHGudgVv"
   },
   "outputs": [],
   "source": [
    "# Callback to update the line chart based on selected country\n",
    "@app.callback(\n",
    "    Output('line-chart', 'figure'),\n",
    "    [Input('selected-country', 'value')]\n",
    ")\n",
    "def update_line_chart(selected_country):\n",
    "    # Filter the data for the selected country\n",
    "    filtered_df = df[df['country'] == selected_country]\n",
    "\n",
    "    # Create the line chart\n",
    "    fig = px.line(filtered_df, x=\"year\", y=\"lifeExp\", title=f'Life Expectancy in {selected_country}')\n",
    "    return fig"
   ]
  },
  {
   "cell_type": "markdown",
   "metadata": {
    "id": "AuitD5STdi7u"
   },
   "source": [
    "**Explanation:**\n",
    "\n",
    "- The @app.callback decorator connects the dropdown input (selected-country) to the output graph (line-chart).\n",
    "- When a user selects a country, this function is triggered to filter the data and update the graph."
   ]
  },
  {
   "cell_type": "markdown",
   "metadata": {
    "id": "14BDZQUZdyTK"
   },
   "source": [
    "**Step 7: Add Another Callback for the Scatter Plot**\n",
    "\n",
    "Similarly, we add another callback to update the scatter plot based on the selected continent."
   ]
  },
  {
   "cell_type": "code",
   "execution_count": 9,
   "metadata": {
    "id": "OQs3mwSyd04u"
   },
   "outputs": [],
   "source": [
    "# Callback to update the scatter plot based on selected continent\n",
    "@app.callback(\n",
    "    Output('scatter-plot', 'figure'),\n",
    "    [Input('selected-continent', 'value')]\n",
    ")\n",
    "def update_scatter_plot(selected_continent):\n",
    "    # Filter the data for the selected continent\n",
    "    filtered_df = df[df['continent'] == selected_continent]\n",
    "\n",
    "    # Create the scatter plot\n",
    "    fig = px.scatter(filtered_df, x='gdpPercap', y='lifeExp', color='country',\n",
    "                     size='pop', hover_name='country', log_x=True,\n",
    "                     title=f'Life Expectancy and GDP in {selected_continent}')\n",
    "    return fig\n"
   ]
  },
  {
   "cell_type": "markdown",
   "metadata": {
    "id": "PD-d91Nrd3a5"
   },
   "source": [
    "**Step 8: Run the App**\n",
    "\n",
    "Now that we have set up the layout and callbacks, we can run the Dash app to make it live."
   ]
  },
  {
   "cell_type": "code",
   "execution_count": 11,
   "metadata": {
    "id": "kOywnao1d9H9"
   },
   "outputs": [
    {
     "data": {
      "text/html": [
       "\n",
       "        <iframe\n",
       "            width=\"100%\"\n",
       "            height=\"650\"\n",
       "            src=\"http://127.0.0.1:8050/\"\n",
       "            frameborder=\"0\"\n",
       "            allowfullscreen\n",
       "            \n",
       "        ></iframe>\n",
       "        "
      ],
      "text/plain": [
       "<IPython.lib.display.IFrame at 0x107d41850>"
      ]
     },
     "metadata": {},
     "output_type": "display_data"
    }
   ],
   "source": [
    "if __name__ == '__main__':\n",
    "    app.run(debug=True)"
   ]
  },
  {
   "cell_type": "markdown",
   "metadata": {
    "id": "vnqPc43oeOFh"
   },
   "source": [
    "After running this, Dash will provide a link (e.g., http://127.0.0.1:8050/) to access the interactive dashboard.\n",
    "\n",
    "---"
   ]
  },
  {
   "cell_type": "markdown",
   "metadata": {
    "id": "SH3wk5tJeGyN"
   },
   "source": [
    "**Conclusion:**\n",
    "\n",
    "You have successfully created an interactive dashboard using Dash! The dashboard allows users to:\n",
    "\n",
    "- Select a country to visualize life expectancy trends over time.\n",
    "- Choose a continent to explore the relationship between GDP per capita and life expectancy through a scatter plot.\n",
    "\n",
    "This basic dashboard can be extended by adding more features like more interactive controls (sliders, radio buttons), custom styling, or new datasets."
   ]
  },
  {
   "cell_type": "markdown",
   "metadata": {
    "id": "lM-mK1dZcyox"
   },
   "source": [
    "---"
   ]
  },
  {
   "cell_type": "markdown",
   "metadata": {
    "id": "ZLguaaLhwsBT"
   },
   "source": [
    "**Further Readings:**\n",
    "\n",
    "- [Dash Offical Documentation](https://dash.plotly.com/)"
   ]
  }
 ],
 "metadata": {
  "colab": {
   "provenance": []
  },
  "kernelspec": {
   "display_name": "Python 3 (ipykernel)",
   "language": "python",
   "name": "python3"
  },
  "language_info": {
   "codemirror_mode": {
    "name": "ipython",
    "version": 3
   },
   "file_extension": ".py",
   "mimetype": "text/x-python",
   "name": "python",
   "nbconvert_exporter": "python",
   "pygments_lexer": "ipython3",
   "version": "3.12.1"
  }
 },
 "nbformat": 4,
 "nbformat_minor": 4
}
